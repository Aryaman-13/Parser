{
 "cells": [
  {
   "cell_type": "code",
   "execution_count": 88,
   "metadata": {},
   "outputs": [
    {
     "data": {
      "text/plain": [
       "assign_sign (generic function with 1 method)"
      ]
     },
     "metadata": {},
     "output_type": "display_data"
    }
   ],
   "source": [
    "# Adds '1' in the beginning if the coefficient is missing for that term\n",
    "\n",
    "function add_dig_start(word)\n",
    "    if word[1] == '-'\n",
    "        if isdigit(word[2])\n",
    "            return word  # It already has a coefficient\n",
    "        else\n",
    "            word = \"1\" * word  # Adding \"1\" as the leading coefficient\n",
    "            return word\n",
    "        end\n",
    "    else\n",
    "        if isdigit(word[1])\n",
    "            return word  # It already has a coefficient\n",
    "        else\n",
    "            word = \"1\" * word  # Adding \"1\" as the leading coefficient\n",
    "            return word\n",
    "        end\n",
    "    end\n",
    "end\n",
    "\n",
    "# This function stores the sign of each term. This is calld while assigning the sign to the coefficients\n",
    "\n",
    "function assign_sign(word)\n",
    "    sign_list = Char[]\n",
    "    current_sign = '+'\n",
    "    if word[1] == '-'\n",
    "        current_sign = '-'\n",
    "    end\n",
    "    if isdigit(word[1]) || (isascii(word[1]) && isletter(word[1]))\n",
    "        push!(sign_list, current_sign)\n",
    "    end\n",
    "    for char in word\n",
    "        if char in ['+', '-']\n",
    "            current_sign = char\n",
    "            push!(sign_list, current_sign)\n",
    "        end\n",
    "    end\n",
    "    return sign_list\n",
    "end\n",
    "\n",
    "\n",
    "\n",
    "\n"
   ]
  },
  {
   "cell_type": "code",
   "execution_count": 89,
   "metadata": {},
   "outputs": [
    {
     "name": "stdout",
     "output_type": "stream",
     "text": [
      "Hi inside the if statement x\n",
      "['+', '+']\n"
     ]
    }
   ],
   "source": [
    "println(assign_sign(\"x+5\"))"
   ]
  }
 ],
 "metadata": {
  "kernelspec": {
   "display_name": "Julia 1.8.5",
   "language": "julia",
   "name": "julia-1.8"
  },
  "language_info": {
   "file_extension": ".jl",
   "mimetype": "application/julia",
   "name": "julia",
   "version": "1.8.5"
  },
  "orig_nbformat": 4
 },
 "nbformat": 4,
 "nbformat_minor": 2
}
