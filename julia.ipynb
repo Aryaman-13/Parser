{
 "cells": [
  {
   "cell_type": "code",
   "execution_count": 147,
   "metadata": {},
   "outputs": [
    {
     "data": {
      "text/plain": [
       "assign_sign (generic function with 1 method)"
      ]
     },
     "metadata": {},
     "output_type": "display_data"
    }
   ],
   "source": [
    "# Adds '1' in the beginning if the coefficient is missing for that term\n",
    "\n",
    "function add_dig_start(word)\n",
    "    if word[1] == '-'\n",
    "        if isdigit(word[2])\n",
    "            return word  # It already has a coefficient\n",
    "        else\n",
    "            word = \"1\" * word  # Adding \"1\" as the leading coefficient\n",
    "            return word\n",
    "        end\n",
    "    else\n",
    "        if isdigit(word[1])\n",
    "            return word  # It already has a coefficient\n",
    "        else\n",
    "            word = \"1\" * word  # Adding \"1\" as the leading coefficient\n",
    "            return word\n",
    "        end\n",
    "    end\n",
    "end\n",
    "\n",
    "# This function stores the sign of each term. This is calld while assigning the sign to the coefficients\n",
    "\n",
    "function assign_sign(word)\n",
    "    sign_list = Char[]\n",
    "    current_sign = '+'\n",
    "    if word[1] == '-'\n",
    "        current_sign = '-'\n",
    "    end\n",
    "    if isdigit(word[1]) || (isascii(word[1]) && isletter(word[1]))\n",
    "        push!(sign_list, current_sign)\n",
    "    end\n",
    "    for char in word\n",
    "        if char in ['+', '-']\n",
    "            current_sign = char\n",
    "            push!(sign_list, current_sign)\n",
    "        end\n",
    "    end\n",
    "    return sign_list\n",
    "end\n"
   ]
  },
  {
   "cell_type": "code",
   "execution_count": 148,
   "metadata": {},
   "outputs": [
    {
     "data": {
      "text/plain": [
       "parse_string_until_alphabet (generic function with 1 method)"
      ]
     },
     "metadata": {},
     "output_type": "display_data"
    }
   ],
   "source": [
    "function parse_string_until_alphabet(string)\n",
    "    for i in eachindex(string)\n",
    "        if (isascii(string[i]) && isletter(string[i]))\n",
    "            return i, string[1:i-1]\n",
    "        end\n",
    "    end\n",
    "    return length(string), string\n",
    "end\n",
    "\n"
   ]
  },
  {
   "cell_type": "code",
   "execution_count": 149,
   "metadata": {},
   "outputs": [
    {
     "data": {
      "text/plain": [
       "simplify_expression (generic function with 1 method)"
      ]
     },
     "metadata": {},
     "output_type": "display_data"
    }
   ],
   "source": [
    "\n",
    "\n",
    "function simplify_expression(char_list)\n",
    "    total_list = String[]\n",
    "    for i in 1:length(char_list)\n",
    "        if isletter(char_list[i][1])\n",
    "            if i + 1 <= length(char_list) && isdigit(char_list[i+1][1])\n",
    "                output = char_list[i] * char_list[i+1]\n",
    "                push!(total_list, output)\n",
    "            else\n",
    "                push!(total_list, char_list[i])\n",
    "            end\n",
    "        end\n",
    "    end\n",
    "    return total_list\n",
    "end"
   ]
  },
  {
   "cell_type": "code",
   "execution_count": 150,
   "metadata": {},
   "outputs": [
    {
     "data": {
      "text/plain": [
       "split_expression (generic function with 1 method)"
      ]
     },
     "metadata": {},
     "output_type": "display_data"
    }
   ],
   "source": [
    "function split_expression(word)\n",
    "    if !isdigit(word[1])\n",
    "        word = \"1\" * word\n",
    "    end\n",
    "    # Now we will start iterating through the word\n",
    "    index, coeff = parse_string_until_alphabet(word)\n",
    "    text = word[index:end]\n",
    "    i = 1\n",
    "    list_char = String[]\n",
    "    while i <= length(text)\n",
    "        push!(list_char, string(text[i]))\n",
    "        # Now checking whether the next character is an alphabet or '^'\n",
    "        if i + 1 <= length(text) && text[i+1] == '^'\n",
    "            j = i + 2\n",
    "            remaining_word = text[j:end]\n",
    "            parsed_string = \"\"\n",
    "            for character in remaining_word\n",
    "                if isascii(character) && isletter(character)\n",
    "                    break\n",
    "                else\n",
    "                    parsed_string *= character\n",
    "                    j += 1\n",
    "                end\n",
    "            end\n",
    "            i = j\n",
    "            push!(list_char, parsed_string)\n",
    "        else\n",
    "            i += 1\n",
    "        end\n",
    "    end\n",
    "    output = simplify_expression(list_char)\n",
    "    insert!(output, 1, coeff)\n",
    "    return output\n",
    "end\n"
   ]
  },
  {
   "cell_type": "code",
   "execution_count": 151,
   "metadata": {},
   "outputs": [
    {
     "data": {
      "text/plain": [
       "create_dictionary (generic function with 1 method)"
      ]
     },
     "metadata": {},
     "output_type": "display_data"
    }
   ],
   "source": [
    "function convert_string(string)\n",
    "    result = \"\"\n",
    "    i = 1\n",
    "    while i <= length(string)\n",
    "        if isletter(string[i])\n",
    "            result *= string[i]\n",
    "            i += 1\n",
    "        else\n",
    "            num_start = i\n",
    "            while i <= length(string) && isdigit(string[i])\n",
    "                i += 1\n",
    "            end\n",
    "            num = parse(Int, string[num_start:i-1])\n",
    "            num -= 1\n",
    "            result *= string[num_start-1] ^ num\n",
    "        end\n",
    "    end\n",
    "    return result\n",
    "end\n",
    "\n",
    "function update_dict(dict1)\n",
    "    for (key, value) in pairs(dict1)\n",
    "        if typeof(value) <: Integer \n",
    "            val = string(value)\n",
    "            val = string(val)\n",
    "            dict1[key] = val\n",
    "        end\n",
    "    end\n",
    "    new_dict = Dict{String, Int64}()\n",
    "    for index in keys(dict1)\n",
    "        var = convert_string(index)\n",
    "        var = join(sort(collect(var)))\n",
    "        if index == \"constant\"\n",
    "            var = \"constant\"\n",
    "        end        \n",
    "        if !haskey(new_dict, var)\n",
    "            value = dict1[index]\n",
    "            value = parse(Int64,value)\n",
    "            new_dict[var] = value\n",
    "        else\n",
    "            value = dict1[index]\n",
    "            value = parse(Int64,value)\n",
    "            new_dict[var] += value\n",
    "        end\n",
    "    end\n",
    "    return new_dict\n",
    "end\n",
    "\n",
    "\n",
    "function create_dictionary(lst)\n",
    "    dict1 = Dict{String, Any}()\n",
    "    for elem in lst\n",
    "        if length(elem) == 1\n",
    "            var = \"constant\"\n",
    "            if !haskey(dict1, var)\n",
    "                dict1[var] = [elem[1]]\n",
    "            else\n",
    "                push!(dict1[var], elem[1])\n",
    "            end\n",
    "        else\n",
    "            var = \"\"\n",
    "            value = elem[1]\n",
    "            for j in 2:length(elem)\n",
    "                var *= elem[j]\n",
    "            end\n",
    "            if !haskey(dict1, var)\n",
    "                dict1[var] = [value]\n",
    "            else\n",
    "                push!(dict1[var], value)\n",
    "            end\n",
    "        end\n",
    "    end\n",
    "    for index in keys(dict1)\n",
    "        if length(dict1[index]) == 1\n",
    "            dict1[index] = dict1[index][1]\n",
    "        else\n",
    "            total = sum(parse.(Int, dict1[index]))\n",
    "            dict1[index] = total\n",
    "        end\n",
    "    end\n",
    "    dict1 = update_dict(dict1)\n",
    "    dic_out = Dict{String, Int64}()\n",
    "    for (x, y) in dict1\n",
    "        if y != 0\n",
    "            dic_out[x] = y\n",
    "        end\n",
    "    end\n",
    "    return dic_out\n",
    "end\n",
    "\n",
    "\n",
    "\n",
    "\n",
    "\n"
   ]
  },
  {
   "cell_type": "code",
   "execution_count": 152,
   "metadata": {},
   "outputs": [
    {
     "data": {
      "text/plain": [
       "perform_operations (generic function with 1 method)"
      ]
     },
     "metadata": {},
     "output_type": "display_data"
    }
   ],
   "source": [
    "using Unicode\n",
    "\n",
    "function call_function(text)\n",
    "    sign_list = assign_sign(text)\n",
    "    terms = split(text, r\"(?<=[+-])|([+-])\")  # Split the string based on '+' or '-' operators\n",
    "    result = []\n",
    "    for term in terms\n",
    "        term = strip(term)\n",
    "        if !isempty(term)\n",
    "            output = add_dig_start(term)\n",
    "            if any(c -> isletter(c), output)\n",
    "                output = split_expression(output)\n",
    "            else\n",
    "                output = [output]\n",
    "            end\n",
    "            push!(result, output)\n",
    "        end\n",
    "    end\n",
    "    for i in 1:length(result)\n",
    "        expression = result[i]\n",
    "        expression[1] = string(sign_list[i], expression[1])\n",
    "    end\n",
    "    result = [string.(result[i]) for i in 1:length(result)]  # Convert each element to String\n",
    "    return result\n",
    "end\n",
    "\n",
    "function row_operations(term)\n",
    "    result = call_function(term)\n",
    "    dict1 = create_dictionary(result)\n",
    "    return dict1\n",
    "end\n",
    "\n",
    "function perform_operations(dict1, dict2)\n",
    "    master_dict = Dict{Any, Any}()\n",
    "    # Iterate over dict1 and check if the keys exist in dict2\n",
    "    for (key, val) in dict1\n",
    "        if key in keys(dict2)\n",
    "            val = dict1[key]\n",
    "            value = dict2[key]\n",
    "            master_dict[key] = val + value\n",
    "        end\n",
    "    end\n",
    "    # Iterate over dict2 and add the keys that are not present in dict1\n",
    "    for (key, val) in dict2\n",
    "        if !(key in keys(dict1))\n",
    "            master_dict[key] = val\n",
    "        end\n",
    "    end\n",
    "    # Iterate over dict1 and add the keys that are not present in master_dict\n",
    "    for (key, val) in dict1\n",
    "        if !(key in keys(master_dict))\n",
    "            master_dict[key] = val\n",
    "        end\n",
    "    end\n",
    "    return master_dict\n",
    "end\n",
    "\n",
    "\n",
    "\n",
    "\n"
   ]
  },
  {
   "cell_type": "code",
   "execution_count": 153,
   "metadata": {},
   "outputs": [
    {
     "data": {
      "text/plain": [
       "calculate_row (generic function with 1 method)"
      ]
     },
     "metadata": {},
     "output_type": "display_data"
    }
   ],
   "source": [
    "function calculate_row(row)\n",
    "    resultant_dict = Dict{String, Any}()\n",
    "    for i in 1:length(row)-1\n",
    "        if i == 1\n",
    "            dict1 = row_operations(row[i])\n",
    "            dict2 = row_operations(row[i+1])\n",
    "            resultant_dict = perform_operations(dict1, dict2)\n",
    "        else\n",
    "            dict1 = row_operations(row[i+1])\n",
    "            resultant_dict = perform_operations(resultant_dict, dict1)\n",
    "        end\n",
    "    end\n",
    "\n",
    "    return resultant_dict\n",
    "end\n"
   ]
  },
  {
   "cell_type": "code",
   "execution_count": 154,
   "metadata": {},
   "outputs": [
    {
     "data": {
      "text/plain": [
       "is_magic_square (generic function with 1 method)"
      ]
     },
     "metadata": {},
     "output_type": "display_data"
    }
   ],
   "source": [
    "\n",
    "\n",
    "function is_magic_square(matrix)\n",
    "    master_dict = Dict{String,Any}()\n",
    "\n",
    "    # Checks for all the rows\n",
    "    for i in 1:length(matrix)\n",
    "        if i == 1\n",
    "            master_dict = calculate_row(matrix[i])\n",
    "        else\n",
    "            check_dict = calculate_row(matrix[i])\n",
    "            if master_dict != check_dict\n",
    "                return false\n",
    "            end\n",
    "        end\n",
    "    end\n",
    "\n",
    "    # Checks for all the columns\n",
    "    num_cols = length(matrix[1])\n",
    "    for col_idx in 1:num_cols\n",
    "        column = [matrix[row_idx][col_idx] for row_idx in 1:length(matrix)]\n",
    "        check_dict = calculate_row(column)\n",
    "        if master_dict != check_dict\n",
    "            return false\n",
    "        end\n",
    "    end\n",
    "\n",
    "    # Checks for the left diagonal\n",
    "    left_diag = [matrix[i][i] for i in 1:length(matrix)]\n",
    "    check_dict = calculate_row(left_diag)\n",
    "    if master_dict != check_dict\n",
    "        return false\n",
    "    end\n",
    "\n",
    "    # Checks for the right diagonal\n",
    "    size = length(matrix)\n",
    "    right_diag = [matrix[i][size-i+1] for i in 1:size]\n",
    "    check_dict = calculate_row(right_diag)\n",
    "    if master_dict != check_dict\n",
    "        return false\n",
    "    end\n",
    "\n",
    "    return true\n",
    "end\n",
    "\n"
   ]
  },
  {
   "cell_type": "code",
   "execution_count": 155,
   "metadata": {},
   "outputs": [],
   "source": [
    "matrix = [[\"8\", \"1\", \"6\"],[\"3\", \"5\", \"7\"],[\"4\", \"9\", \"2\"]]\n",
    "println(\"The output is: \",is_magic_square(matrix))\n",
    "matrix = [ [\"16\", \"2\", \"3\", \"13\"],[\"5\", \"11\", \"10\", \"8\"],[\"9\", \"7\", \"6\", \"12\"],[\"4\", \"14\", \"15\", \"1\"] ]\n",
    "println(\"The output is: \",is_magic_square(matrix))\n",
    "matrix = [ [\"1\", \"2\", \"3\"],[\"4\", \"5\", \"6\"],[\"7\", \"8\", \"9\"]]\n",
    "output = is_magic_square(matrix)\n",
    "println(\"The output is: \",output)\n",
    "matrix = [[\"x^2+2\",\"x^2+5x+7\",\"x^2+4x+6\"], [\"x^2+7x+9\",\"x^2+3x+5\",\"x^2-x+1\"] , [\"x^2+2x+4\",\"x^2+x+3\",\"x^2+6x+8\"]]\n",
    "output = is_magic_square(matrix)\n",
    "println(\"The output is: \",output)\n",
    "println(\"yo\")\n",
    "matrix = [[\"y^2x+xy-1+xz-xz\",\"yx+1-2+xy^2\"],[\"xy+y^2x-1\" ,\"yx-1+z^2+xy^2-z^2\"]]\n",
    "output = is_magic_square(matrix)\n",
    "println(\"The output is: \",output)"
   ]
  }
 ],
 "metadata": {
  "kernelspec": {
   "display_name": "Julia 1.8.5",
   "language": "julia",
   "name": "julia-1.8"
  },
  "language_info": {
   "file_extension": ".jl",
   "mimetype": "application/julia",
   "name": "julia",
   "version": "1.8.5"
  },
  "orig_nbformat": 4
 },
 "nbformat": 4,
 "nbformat_minor": 2
}
