{
 "cells": [
  {
   "cell_type": "code",
   "execution_count": 21,
   "metadata": {},
   "outputs": [
    {
     "data": {
      "text/plain": [
       "assign_sign (generic function with 1 method)"
      ]
     },
     "metadata": {},
     "output_type": "display_data"
    }
   ],
   "source": [
    "# Adds '1' in the beginning if the coefficient is missing for that term\n",
    "\n",
    "function add_dig_start(word)\n",
    "    if word[1] == '-'\n",
    "        if isdigit(word[2])\n",
    "            return word  # It already has a coefficient\n",
    "        else\n",
    "            word = \"1\" * word  # Adding \"1\" as the leading coefficient\n",
    "            return word\n",
    "        end\n",
    "    else\n",
    "        if isdigit(word[1])\n",
    "            return word  # It already has a coefficient\n",
    "        else\n",
    "            word = \"1\" * word  # Adding \"1\" as the leading coefficient\n",
    "            return word\n",
    "        end\n",
    "    end\n",
    "end\n",
    "\n",
    "# This function stores the sign of each term. This is calld while assigning the sign to the coefficients\n",
    "\n",
    "function assign_sign(word)\n",
    "    sign_list = Char[]\n",
    "    current_sign = '+'\n",
    "    if word[1] == '-'\n",
    "        current_sign = '-'\n",
    "    end\n",
    "    if isdigit(word[1]) || (isascii(word[1]) && isletter(word[1]))\n",
    "        push!(sign_list, current_sign)\n",
    "    end\n",
    "    for char in word\n",
    "        if char in ['+', '-']\n",
    "            current_sign = char\n",
    "            push!(sign_list, current_sign)\n",
    "        end\n",
    "    end\n",
    "    return sign_list\n",
    "end\n"
   ]
  },
  {
   "cell_type": "code",
   "execution_count": 22,
   "metadata": {},
   "outputs": [
    {
     "data": {
      "text/plain": [
       "parse_string_until_alphabet (generic function with 1 method)"
      ]
     },
     "metadata": {},
     "output_type": "display_data"
    }
   ],
   "source": [
    "function parse_string_until_alphabet(string)\n",
    "    for i in eachindex(string)\n",
    "        if (isascii(string[i]) && isletter(string[i]))\n",
    "            return i, string[1:i-1]\n",
    "        end\n",
    "    end\n",
    "    return length(string), string\n",
    "end\n",
    "\n"
   ]
  },
  {
   "cell_type": "code",
   "execution_count": 23,
   "metadata": {},
   "outputs": [
    {
     "data": {
      "text/plain": [
       "simplify_expression (generic function with 1 method)"
      ]
     },
     "metadata": {},
     "output_type": "display_data"
    }
   ],
   "source": [
    "using Unicode\n",
    "\n",
    "function simplify_expression(char_list)\n",
    "    total_list = String[]\n",
    "    for i in 1:length(char_list)\n",
    "        if isletter(char_list[i][1])\n",
    "            if i + 1 <= length(char_list) && isdigit(char_list[i+1][1])\n",
    "                output = char_list[i] * char_list[i+1]\n",
    "                push!(total_list, output)\n",
    "            else\n",
    "                push!(total_list, char_list[i])\n",
    "            end\n",
    "        end\n",
    "    end\n",
    "    return total_list\n",
    "end\n"
   ]
  },
  {
   "cell_type": "code",
   "execution_count": 24,
   "metadata": {},
   "outputs": [
    {
     "name": "stdout",
     "output_type": "stream",
     "text": [
      "[\"8\", \"x3\"]\n"
     ]
    }
   ],
   "source": [
    "function split_expression(word)\n",
    "    if !isdigit(word[1])\n",
    "        word = \"1\" * word\n",
    "    end\n",
    "    # Now we will start iterating through the word\n",
    "    index, coeff = parse_string_until_alphabet(word)\n",
    "    text = word[index:end]\n",
    "    i = 1\n",
    "    list_char = String[]\n",
    "    while i <= length(text)\n",
    "        push!(list_char, string(text[i]))\n",
    "        # Now checking whether the next character is an alphabet or '^'\n",
    "        if i + 1 <= length(text) && text[i+1] == '^'\n",
    "            j = i + 2\n",
    "            remaining_word = text[j:end]\n",
    "            parsed_string = \"\"\n",
    "            for character in remaining_word\n",
    "                if isascii(character) && isletter(character)\n",
    "                    break\n",
    "                else\n",
    "                    parsed_string *= character\n",
    "                    j += 1\n",
    "                end\n",
    "            end\n",
    "            i = j\n",
    "            push!(list_char, parsed_string)\n",
    "        else\n",
    "            i += 1\n",
    "        end\n",
    "    end\n",
    "    output = simplify_expression(list_char)\n",
    "    insert!(output, 1, coeff)\n",
    "    return output\n",
    "end\n",
    "\n",
    "println(split_expression(\"8x^3\"))\n"
   ]
  }
 ],
 "metadata": {
  "kernelspec": {
   "display_name": "Julia 1.8.5",
   "language": "julia",
   "name": "julia-1.8"
  },
  "language_info": {
   "file_extension": ".jl",
   "mimetype": "application/julia",
   "name": "julia",
   "version": "1.8.5"
  },
  "orig_nbformat": 4
 },
 "nbformat": 4,
 "nbformat_minor": 2
}
