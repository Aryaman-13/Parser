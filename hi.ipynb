{
 "cells": [
  {
   "cell_type": "code",
   "execution_count": 53,
   "metadata": {},
   "outputs": [
    {
     "name": "stdout",
     "output_type": "stream",
     "text": [
      "[['-x^2y^2 + 2xy + 1', '-x^2y^2 + 7yx - 5yx + 1'], ['2x^2y^2 - 3x^2y^2 + 2xy + 1', ' 2xy - y^2x^2 + 1']]\n"
     ]
    }
   ],
   "source": [
    "file_path = \"./matrix.txt\"\n",
    "with open(file_path,'r') as file:\n",
    "    matrix = []\n",
    "    for line in file:\n",
    "        lst = line.rstrip().split(',')\n",
    "        lst = [value.replace('',\"\") for value in lst]\n",
    "        matrix.append(lst)\n",
    "    print(matrix)\n",
    "\n"
   ]
  },
  {
   "cell_type": "code",
   "execution_count": 68,
   "metadata": {},
   "outputs": [
    {
     "name": "stdout",
     "output_type": "stream",
     "text": [
      "['\"-x^2y^2 + 2xy + 1\"', '\"-x^2y^2 + 7yx - 5yx + 1\"']\n",
      "['\"2x^2y^2 - 3x^2y^2 + 2xy + 1\"', '\" 2xy - y^2x^2 + 1\"']\n"
     ]
    }
   ],
   "source": [
    "import json\n",
    "file_path = \"./matrix.txt\"\n",
    "with open(file_path, 'r') as file:\n",
    "    matrix = []\n",
    "    for line in file:\n",
    "        lst = line.rstrip().split(',')\n",
    "        new_lst = []\n",
    "        for value in lst:\n",
    "            value = '\"' + str(value).replace('\"', r'\\\"') + '\"'\n",
    "            new_lst.append(value)\n",
    "        print(new_lst)\n",
    "\n",
    "\n"
   ]
  },
  {
   "cell_type": "code",
   "execution_count": 55,
   "metadata": {},
   "outputs": [
    {
     "name": "stdout",
     "output_type": "stream",
     "text": [
      "\"Hello, World!\"\n"
     ]
    },
    {
     "data": {
      "text/plain": [
       "'Hello, World!'"
      ]
     },
     "execution_count": 55,
     "metadata": {},
     "output_type": "execute_result"
    }
   ],
   "source": [
    "single_quoted_string = 'Hello, World!'\n",
    "double_quoted_string = '\"' + single_quoted_string[0:] + '\"'\n",
    "print(double_quoted_string)\n",
    "\n",
    "single_quoted_string.replace(\"'\", \"\\\"\")"
   ]
  },
  {
   "cell_type": "code",
   "execution_count": 56,
   "metadata": {},
   "outputs": [
    {
     "name": "stdout",
     "output_type": "stream",
     "text": [
      "\"Hello, World!\"\n"
     ]
    }
   ],
   "source": [
    "single_quoted_string = 'Hello, World!'\n",
    "double_quoted_string = '\"' + single_quoted_string.replace('\"', r'\\\"') + '\"'\n",
    "print(double_quoted_string)\n"
   ]
  },
  {
   "cell_type": "code",
   "execution_count": 77,
   "metadata": {},
   "outputs": [
    {
     "name": "stdout",
     "output_type": "stream",
     "text": [
      "[['-x^2y^2 + 2xy + 1', '-x^2y^2 + 7yx - 5yx + 1'], ['2x^2y^2 - 3x^2y^2 + 2xy + 1', ' 2xy - y^2x^2 + 1']]\n"
     ]
    }
   ],
   "source": [
    "\n"
   ]
  }
 ],
 "metadata": {
  "kernelspec": {
   "display_name": "dmpr",
   "language": "python",
   "name": "python3"
  },
  "language_info": {
   "codemirror_mode": {
    "name": "ipython",
    "version": 3
   },
   "file_extension": ".py",
   "mimetype": "text/x-python",
   "name": "python",
   "nbconvert_exporter": "python",
   "pygments_lexer": "ipython3",
   "version": "3.10.4"
  },
  "orig_nbformat": 4
 },
 "nbformat": 4,
 "nbformat_minor": 2
}
