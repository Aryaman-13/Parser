{
 "cells": [
  {
   "cell_type": "code",
   "execution_count": 55,
   "metadata": {},
   "outputs": [],
   "source": [
    "# In this code we will be testing"
   ]
  },
  {
   "cell_type": "code",
   "execution_count": 56,
   "metadata": {},
   "outputs": [
    {
     "name": "stdout",
     "output_type": "stream",
     "text": [
      "The expression is ['100x^2', '7y^3', '3y^2', '4x', '7']\n",
      "Resultant expression [['100', 'x', '2'], ['7', 'y', '3'], ['3', 'y', '2'], '4x', '7']\n"
     ]
    }
   ],
   "source": [
    "import re\n",
    "text = \"100x^2+7y^3+3y^2+4x-7\"\n",
    "# Splits the string whenever it encounters a (+) or (-) sign\n",
    "result = re.split('[+-]',text)\n",
    "print(\"The expression is\",result)\n",
    "\n",
    "# Adds '1' in the beginning if the coefficient is missing for that term \n",
    "def add_dig_start(word):\n",
    "    if(word[0].isdigit() == True):\n",
    "        return word # It already has a coefficient\n",
    "    else:\n",
    "        word = \"1\" + word # Adding \"1\" as the leading coefficient\n",
    "        return word\n",
    "\n",
    "\n",
    "for i in range(len(result)):\n",
    "    word = result[i]\n",
    "    output = add_dig_start(word)\n",
    "    result[i] = output\n",
    "    if '^' in result[i]:\n",
    "        str = result[i].split(\"^\")\n",
    "        power = str[1] # Stores the power of the expresssion\n",
    "        left = str[0] # Stores the coefficient\n",
    "        variable = \"\"\n",
    "        coeff = \"\"\n",
    "        for character in left:\n",
    "            if character.isalpha():\n",
    "                variable = left[left.index(character):]\n",
    "                break\n",
    "            else:\n",
    "                coeff+= character\n",
    "        result[i] = [coeff,variable,power]\n",
    "\n",
    "print(\"Resultant expression\",result)\n"
   ]
  },
  {
   "cell_type": "code",
   "execution_count": 57,
   "metadata": {},
   "outputs": [
    {
     "name": "stdout",
     "output_type": "stream",
     "text": [
      "Substring 1: 1234\n",
      "Substring 2: abcd5678\n"
     ]
    }
   ],
   "source": [
    "string = \"1234abcd5678\"\n",
    "substring1 = \"\"\n",
    "substring2 = \"\"\n",
    "\n",
    "for character in string:\n",
    "    if character.isalpha():\n",
    "        substring2 = string[string.index(character):]\n",
    "        break\n",
    "    else:\n",
    "        substring1 += character\n",
    "\n",
    "print(\"Substring 1:\", substring1)\n",
    "print(\"Substring 2:\", substring2)"
   ]
  },
  {
   "cell_type": "code",
   "execution_count": null,
   "metadata": {},
   "outputs": [],
   "source": []
  }
 ],
 "metadata": {
  "kernelspec": {
   "display_name": "dmpr",
   "language": "python",
   "name": "python3"
  },
  "language_info": {
   "codemirror_mode": {
    "name": "ipython",
    "version": 3
   },
   "file_extension": ".py",
   "mimetype": "text/x-python",
   "name": "python",
   "nbconvert_exporter": "python",
   "pygments_lexer": "ipython3",
   "version": "3.10.4"
  },
  "orig_nbformat": 4
 },
 "nbformat": 4,
 "nbformat_minor": 2
}
