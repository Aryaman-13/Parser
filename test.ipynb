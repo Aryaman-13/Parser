{
 "cells": [
  {
   "cell_type": "code",
   "execution_count": 348,
   "metadata": {},
   "outputs": [],
   "source": [
    "# In this code we will be testing"
   ]
  },
  {
   "cell_type": "code",
   "execution_count": 349,
   "metadata": {},
   "outputs": [
    {
     "name": "stdout",
     "output_type": "stream",
     "text": [
      "['+10', '+20', '-30', '+40', '-50']\n",
      "['+', '+', '-', '+', '-']\n"
     ]
    }
   ],
   "source": [
    "my_string = \"10+20-30+40-50\"\n",
    "\n",
    "# initialize the list to store the split values\n",
    "split_list = []\n",
    "\n",
    "sign_list = []\n",
    "\n",
    "# initialize variables to keep track of current value and sign\n",
    "current_value = ''\n",
    "current_sign = '+'\n",
    "\n",
    "# loop through the characters in the string\n",
    "for char in my_string:\n",
    "    if char in ['+', '-']:\n",
    "        # if we encounter a new sign, add the current value to the list\n",
    "        # split_list.append(current_sign + current_value)\n",
    "        split_list.append(current_sign + current_value)\n",
    "        sign_list.append(current_sign)\n",
    "        current_value = ''\n",
    "        current_sign = char\n",
    "    else:\n",
    "        # if it's not a sign, add the character to the current value\n",
    "        current_value += char\n",
    "\n",
    "# add the last value to the list\n",
    "split_list.append(current_sign + current_value)\n",
    "sign_list.append(current_sign)\n",
    "\n",
    "# print the result\n",
    "print(split_list)\n",
    "print(sign_list)"
   ]
  },
  {
   "attachments": {},
   "cell_type": "markdown",
   "metadata": {},
   "source": [
    "Defining all the functions used in the program"
   ]
  },
  {
   "cell_type": "code",
   "execution_count": 350,
   "metadata": {},
   "outputs": [],
   "source": [
    "# Adds '1' in the beginning if the coefficient is missing for that term \n",
    "def add_dig_start(word):\n",
    "    if(word[0].isdigit() == True):\n",
    "        return word # It already has a coefficient\n",
    "    else:\n",
    "        word = \"1\" + word # Adding \"1\" as the leading coefficient\n",
    "        return word\n",
    "    \n",
    "def parse_string_until_alphabet(string):\n",
    "    for i in range(len(string)):\n",
    "        if string[i].isalpha():\n",
    "            return i, string[:i]\n",
    "    return len(string), string\n",
    "    \n",
    "\n",
    "\n",
    "def simplify_expression(char_list):\n",
    "    j = 0 \n",
    "    total_list = []\n",
    "    while(j<len(char_list)):\n",
    "       if(char_list[j].isalpha()==True):\n",
    "           if(j+1<len(char_list) and char_list[j+1].isdigit()==True):\n",
    "               output = char_list[j]+char_list[j+1]\n",
    "               total_list.append(output)\n",
    "               j+=1\n",
    "           else:\n",
    "               total_list.append(char_list[j])\n",
    "               j+=1\n",
    "       else:\n",
    "           j+=1\n",
    "    return total_list\n",
    "\n",
    "def split_expression(word):\n",
    "    if word[0].isdigit() == False:\n",
    "        word = \"1\"+word\n",
    "    # Now we will start iterating through the word\n",
    "    index, coeff = parse_string_until_alphabet(word)\n",
    "    text = word[index:]\n",
    "    i = 0\n",
    "    list_char = []\n",
    "    while(i<len(text)):\n",
    "        list_char.append(text[i])\n",
    "        # Now checking whether the next character is an alphabet or '^'\n",
    "        if (i+1<len(text) and text[i+1]=='^'):\n",
    "            j = i+2\n",
    "            remaining_word = text[j:]\n",
    "            parsed_string = \"\"\n",
    "            for character in remaining_word:\n",
    "                if character.isalpha():\n",
    "                    break\n",
    "                else:\n",
    "                    parsed_string+= character\n",
    "                    j+=1\n",
    "            i = j\n",
    "            list_char.append(parsed_string)\n",
    "        else:\n",
    "            i+=1\n",
    "\n",
    "    output = simplify_expression(list_char)\n",
    "    output.insert(0,coeff)\n",
    "    return output\n"
   ]
  },
  {
   "cell_type": "code",
   "execution_count": 351,
   "metadata": {},
   "outputs": [
    {
     "name": "stdout",
     "output_type": "stream",
     "text": [
      "The expression is ['100x^2', '7y^3z^2', '3y^2', '4x', '7']\n",
      "Resultant expression:  [['100', 'x2'], ['7', 'y3', 'z2'], ['3', 'y2'], ['4', 'x'], ['7']]\n"
     ]
    }
   ],
   "source": [
    "import re\n",
    "text = \"100x^2+7y^3z^2+3y^2+4x-7\"\n",
    "# Splits the string whenever it encounters a (+) or (-) sign\n",
    "result = re.split('[+-]',text)\n",
    "print(\"The expression is\",result)\n",
    "\n",
    "\n",
    "for i in range(len(result)):\n",
    "    word = result[i]\n",
    "    output = add_dig_start(word)\n",
    "    result[i] = output\n",
    "    if any(c.isalpha() for c in result[i]):\n",
    "        result[i] = split_expression(result[i])\n",
    "    else:\n",
    "        result[i] = [result[i]]\n",
    "\n",
    "print(\"Resultant expression: \",result)\n"
   ]
  }
 ],
 "metadata": {
  "kernelspec": {
   "display_name": "dmpr",
   "language": "python",
   "name": "python3"
  },
  "language_info": {
   "codemirror_mode": {
    "name": "ipython",
    "version": 3
   },
   "file_extension": ".py",
   "mimetype": "text/x-python",
   "name": "python",
   "nbconvert_exporter": "python",
   "pygments_lexer": "ipython3",
   "version": "3.10.4"
  },
  "orig_nbformat": 4
 },
 "nbformat": 4,
 "nbformat_minor": 2
}
