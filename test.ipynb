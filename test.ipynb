{
 "cells": [
  {
   "cell_type": "code",
   "execution_count": 1,
   "metadata": {},
   "outputs": [],
   "source": [
    "# In this code we will be testing"
   ]
  },
  {
   "cell_type": "code",
   "execution_count": 14,
   "metadata": {},
   "outputs": [
    {
     "name": "stdout",
     "output_type": "stream",
     "text": [
      "['4x^2', 'x', '3y^2', '7']\n",
      "['4x^2', '1x', '3y^2', '7']\n",
      "['4x', '2']\n",
      "['1x']\n",
      "['3y', '2']\n",
      "['7']\n"
     ]
    }
   ],
   "source": [
    "import re\n",
    "text = \"4x^2+x+3y^2-7\"\n",
    "# Splits the string whenever it encounters a (+) or (-) sign\n",
    "result = re.split('[+-]',text)\n",
    "print(result)\n",
    "\n",
    "# Adds '1' in the beginning if the coefficient is missing for that term and considering the case when there is only one variable per expression\n",
    "\n",
    "for i in range(len(result)):\n",
    "    exp = result[i]\n",
    "    x = exp.split(\"^\")\n",
    "    print(x)\n",
    "\n",
    "\n",
    "\n",
    "\n",
    "\n",
    "\n",
    "\n",
    "\n"
   ]
  }
 ],
 "metadata": {
  "kernelspec": {
   "display_name": "dmpr",
   "language": "python",
   "name": "python3"
  },
  "language_info": {
   "codemirror_mode": {
    "name": "ipython",
    "version": 3
   },
   "file_extension": ".py",
   "mimetype": "text/x-python",
   "name": "python",
   "nbconvert_exporter": "python",
   "pygments_lexer": "ipython3",
   "version": "3.10.4"
  },
  "orig_nbformat": 4
 },
 "nbformat": 4,
 "nbformat_minor": 2
}
